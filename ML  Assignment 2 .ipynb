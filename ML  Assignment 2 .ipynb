{
 "cells": [
  {
   "cell_type": "markdown",
   "id": "d26592f3-f062-4d92-ba1a-2c470313d235",
   "metadata": {},
   "source": [
    "# Data Exploration: \n"
   ]
  },
  {
   "cell_type": "code",
   "execution_count": 106,
   "id": "99e82582-a024-4b94-acb6-5378cff4e39a",
   "metadata": {},
   "outputs": [],
   "source": [
    "import warnings\n",
    "warnings.filterwarnings(\"ignore\")"
   ]
  },
  {
   "cell_type": "code",
   "execution_count": 107,
   "id": "4b393ddd-9f3e-4eda-aa1c-0827963bd021",
   "metadata": {},
   "outputs": [],
   "source": [
    "import pandas as pd\n",
    "import numpy as np\n",
    "import matplotlib as plt\n",
    "import seaborn as sns\n",
    "from sklearn.preprocessing import LabelEncoder, OneHotEncoder, StandardScaler, MinMaxScaler"
   ]
  },
  {
   "cell_type": "code",
   "execution_count": 108,
   "id": "31f2f805-967f-4b3b-a22a-99476ddb516e",
   "metadata": {},
   "outputs": [
    {
     "data": {
      "text/html": [
       "<div>\n",
       "<style scoped>\n",
       "    .dataframe tbody tr th:only-of-type {\n",
       "        vertical-align: middle;\n",
       "    }\n",
       "\n",
       "    .dataframe tbody tr th {\n",
       "        vertical-align: top;\n",
       "    }\n",
       "\n",
       "    .dataframe thead th {\n",
       "        text-align: right;\n",
       "    }\n",
       "</style>\n",
       "<table border=\"1\" class=\"dataframe\">\n",
       "  <thead>\n",
       "    <tr style=\"text-align: right;\">\n",
       "      <th></th>\n",
       "      <th>Company</th>\n",
       "      <th>Age</th>\n",
       "      <th>Salary</th>\n",
       "      <th>Place</th>\n",
       "      <th>Country</th>\n",
       "      <th>Gender</th>\n",
       "    </tr>\n",
       "  </thead>\n",
       "  <tbody>\n",
       "    <tr>\n",
       "      <th>0</th>\n",
       "      <td>TCS</td>\n",
       "      <td>20.0</td>\n",
       "      <td>NaN</td>\n",
       "      <td>Chennai</td>\n",
       "      <td>India</td>\n",
       "      <td>0</td>\n",
       "    </tr>\n",
       "    <tr>\n",
       "      <th>1</th>\n",
       "      <td>Infosys</td>\n",
       "      <td>30.0</td>\n",
       "      <td>NaN</td>\n",
       "      <td>Mumbai</td>\n",
       "      <td>India</td>\n",
       "      <td>0</td>\n",
       "    </tr>\n",
       "    <tr>\n",
       "      <th>2</th>\n",
       "      <td>TCS</td>\n",
       "      <td>35.0</td>\n",
       "      <td>2300.0</td>\n",
       "      <td>Calcutta</td>\n",
       "      <td>India</td>\n",
       "      <td>0</td>\n",
       "    </tr>\n",
       "    <tr>\n",
       "      <th>3</th>\n",
       "      <td>Infosys</td>\n",
       "      <td>40.0</td>\n",
       "      <td>3000.0</td>\n",
       "      <td>Delhi</td>\n",
       "      <td>India</td>\n",
       "      <td>0</td>\n",
       "    </tr>\n",
       "    <tr>\n",
       "      <th>4</th>\n",
       "      <td>TCS</td>\n",
       "      <td>23.0</td>\n",
       "      <td>4000.0</td>\n",
       "      <td>Mumbai</td>\n",
       "      <td>India</td>\n",
       "      <td>0</td>\n",
       "    </tr>\n",
       "    <tr>\n",
       "      <th>...</th>\n",
       "      <td>...</td>\n",
       "      <td>...</td>\n",
       "      <td>...</td>\n",
       "      <td>...</td>\n",
       "      <td>...</td>\n",
       "      <td>...</td>\n",
       "    </tr>\n",
       "    <tr>\n",
       "      <th>143</th>\n",
       "      <td>TCS</td>\n",
       "      <td>33.0</td>\n",
       "      <td>9024.0</td>\n",
       "      <td>Calcutta</td>\n",
       "      <td>India</td>\n",
       "      <td>1</td>\n",
       "    </tr>\n",
       "    <tr>\n",
       "      <th>144</th>\n",
       "      <td>Infosys</td>\n",
       "      <td>22.0</td>\n",
       "      <td>8787.0</td>\n",
       "      <td>Calcutta</td>\n",
       "      <td>India</td>\n",
       "      <td>1</td>\n",
       "    </tr>\n",
       "    <tr>\n",
       "      <th>145</th>\n",
       "      <td>Infosys</td>\n",
       "      <td>44.0</td>\n",
       "      <td>4034.0</td>\n",
       "      <td>Delhi</td>\n",
       "      <td>India</td>\n",
       "      <td>1</td>\n",
       "    </tr>\n",
       "    <tr>\n",
       "      <th>146</th>\n",
       "      <td>TCS</td>\n",
       "      <td>33.0</td>\n",
       "      <td>5034.0</td>\n",
       "      <td>Mumbai</td>\n",
       "      <td>India</td>\n",
       "      <td>1</td>\n",
       "    </tr>\n",
       "    <tr>\n",
       "      <th>147</th>\n",
       "      <td>Infosys</td>\n",
       "      <td>22.0</td>\n",
       "      <td>8202.0</td>\n",
       "      <td>Cochin</td>\n",
       "      <td>India</td>\n",
       "      <td>0</td>\n",
       "    </tr>\n",
       "  </tbody>\n",
       "</table>\n",
       "<p>148 rows × 6 columns</p>\n",
       "</div>"
      ],
      "text/plain": [
       "     Company   Age  Salary     Place Country  Gender\n",
       "0        TCS  20.0     NaN   Chennai   India       0\n",
       "1    Infosys  30.0     NaN    Mumbai   India       0\n",
       "2        TCS  35.0  2300.0  Calcutta   India       0\n",
       "3    Infosys  40.0  3000.0     Delhi   India       0\n",
       "4        TCS  23.0  4000.0    Mumbai   India       0\n",
       "..       ...   ...     ...       ...     ...     ...\n",
       "143      TCS  33.0  9024.0  Calcutta   India       1\n",
       "144  Infosys  22.0  8787.0  Calcutta   India       1\n",
       "145  Infosys  44.0  4034.0     Delhi   India       1\n",
       "146      TCS  33.0  5034.0    Mumbai   India       1\n",
       "147  Infosys  22.0  8202.0    Cochin   India       0\n",
       "\n",
       "[148 rows x 6 columns]"
      ]
     },
     "execution_count": 108,
     "metadata": {},
     "output_type": "execute_result"
    }
   ],
   "source": [
    "df=pd.read_csv(\"Employee.csv\")\n",
    "df"
   ]
  },
  {
   "cell_type": "code",
   "execution_count": 109,
   "id": "33bfc72a-7a07-451b-8dfa-0cbaf5711331",
   "metadata": {},
   "outputs": [
    {
     "name": "stdout",
     "output_type": "stream",
     "text": [
      "<class 'pandas.core.frame.DataFrame'>\n",
      "RangeIndex: 148 entries, 0 to 147\n",
      "Data columns (total 6 columns):\n",
      " #   Column   Non-Null Count  Dtype  \n",
      "---  ------   --------------  -----  \n",
      " 0   Company  140 non-null    object \n",
      " 1   Age      130 non-null    float64\n",
      " 2   Salary   124 non-null    float64\n",
      " 3   Place    134 non-null    object \n",
      " 4   Country  148 non-null    object \n",
      " 5   Gender   148 non-null    int64  \n",
      "dtypes: float64(2), int64(1), object(3)\n",
      "memory usage: 7.1+ KB\n"
     ]
    }
   ],
   "source": [
    "df.info()"
   ]
  },
  {
   "cell_type": "code",
   "execution_count": 110,
   "id": "5602f683-d991-46d0-8355-443ef3fdaff4",
   "metadata": {},
   "outputs": [
    {
     "data": {
      "text/html": [
       "<div>\n",
       "<style scoped>\n",
       "    .dataframe tbody tr th:only-of-type {\n",
       "        vertical-align: middle;\n",
       "    }\n",
       "\n",
       "    .dataframe tbody tr th {\n",
       "        vertical-align: top;\n",
       "    }\n",
       "\n",
       "    .dataframe thead th {\n",
       "        text-align: right;\n",
       "    }\n",
       "</style>\n",
       "<table border=\"1\" class=\"dataframe\">\n",
       "  <thead>\n",
       "    <tr style=\"text-align: right;\">\n",
       "      <th></th>\n",
       "      <th>Company</th>\n",
       "      <th>Age</th>\n",
       "      <th>Salary</th>\n",
       "      <th>Place</th>\n",
       "      <th>Country</th>\n",
       "      <th>Gender</th>\n",
       "    </tr>\n",
       "  </thead>\n",
       "  <tbody>\n",
       "    <tr>\n",
       "      <th>0</th>\n",
       "      <td>TCS</td>\n",
       "      <td>20.0</td>\n",
       "      <td>NaN</td>\n",
       "      <td>Chennai</td>\n",
       "      <td>India</td>\n",
       "      <td>0</td>\n",
       "    </tr>\n",
       "    <tr>\n",
       "      <th>1</th>\n",
       "      <td>Infosys</td>\n",
       "      <td>30.0</td>\n",
       "      <td>NaN</td>\n",
       "      <td>Mumbai</td>\n",
       "      <td>India</td>\n",
       "      <td>0</td>\n",
       "    </tr>\n",
       "    <tr>\n",
       "      <th>2</th>\n",
       "      <td>TCS</td>\n",
       "      <td>35.0</td>\n",
       "      <td>2300.0</td>\n",
       "      <td>Calcutta</td>\n",
       "      <td>India</td>\n",
       "      <td>0</td>\n",
       "    </tr>\n",
       "    <tr>\n",
       "      <th>3</th>\n",
       "      <td>Infosys</td>\n",
       "      <td>40.0</td>\n",
       "      <td>3000.0</td>\n",
       "      <td>Delhi</td>\n",
       "      <td>India</td>\n",
       "      <td>0</td>\n",
       "    </tr>\n",
       "    <tr>\n",
       "      <th>4</th>\n",
       "      <td>TCS</td>\n",
       "      <td>23.0</td>\n",
       "      <td>4000.0</td>\n",
       "      <td>Mumbai</td>\n",
       "      <td>India</td>\n",
       "      <td>0</td>\n",
       "    </tr>\n",
       "  </tbody>\n",
       "</table>\n",
       "</div>"
      ],
      "text/plain": [
       "   Company   Age  Salary     Place Country  Gender\n",
       "0      TCS  20.0     NaN   Chennai   India       0\n",
       "1  Infosys  30.0     NaN    Mumbai   India       0\n",
       "2      TCS  35.0  2300.0  Calcutta   India       0\n",
       "3  Infosys  40.0  3000.0     Delhi   India       0\n",
       "4      TCS  23.0  4000.0    Mumbai   India       0"
      ]
     },
     "execution_count": 110,
     "metadata": {},
     "output_type": "execute_result"
    }
   ],
   "source": [
    "df.head()"
   ]
  },
  {
   "cell_type": "code",
   "execution_count": 111,
   "id": "fee8afd5-2ad8-49e5-bcf4-46642b4b892e",
   "metadata": {},
   "outputs": [
    {
     "data": {
      "text/plain": [
       "(148, 6)"
      ]
     },
     "execution_count": 111,
     "metadata": {},
     "output_type": "execute_result"
    }
   ],
   "source": [
    "df.shape"
   ]
  },
  {
   "cell_type": "code",
   "execution_count": 112,
   "id": "8160a84e-7de6-4384-9962-0251a6403f51",
   "metadata": {},
   "outputs": [
    {
     "name": "stdout",
     "output_type": "stream",
     "text": [
      "{'Company': (array(['TCS', 'Infosys', 'CTS', 'Tata Consultancy Services', 'Congnizant',\n",
      "       'Infosys Pvt Lmt'], dtype=object), 6), 'Age': (array([20., 30., 35., 40., 23., 34., 45., 18., 22., 32., 37., 50., 21.,\n",
      "       46., 36., 26., 41., 24., 25., 43., 19., 38., 51., 31., 44., 33.,\n",
      "       17.,  0., 54.]), 29), 'Salary': (array([2300., 3000., 4000., 5000., 6000., 7000., 8000., 9000., 1089.,\n",
      "       1234., 3030., 3045., 3184., 4824., 5835., 7084., 8943., 8345.,\n",
      "       9284., 9876., 2034., 7654., 2934., 4034., 5034., 8202., 9024.,\n",
      "       4345., 6544., 6543., 3234., 4324., 5435., 5555., 8787., 3454.,\n",
      "       5654., 5009., 5098., 3033.]), 40), 'Place': (array(['Chennai', 'Mumbai', 'Calcutta', 'Delhi', 'Podicherry', 'Cochin',\n",
      "       'Noida', 'Hyderabad', 'Bhopal', 'Nagpur', 'Pune'], dtype=object), 11), 'Country': (array(['India'], dtype=object), 1), 'Gender': (array([0, 1], dtype=int64), 2)}\n"
     ]
    }
   ],
   "source": [
    "# list down the unique values in each feature and find its length\n",
    "unique_values = {col: (df[col].dropna().unique(), df[col].nunique()) for col in df.columns}\n",
    "print(unique_values)"
   ]
  },
  {
   "cell_type": "code",
   "execution_count": 113,
   "id": "2cf49fd6-a42c-4cc4-a34f-336628666bc4",
   "metadata": {},
   "outputs": [
    {
     "name": "stdout",
     "output_type": "stream",
     "text": [
      "Statistical Summary:\n",
      "              Age       Salary      Gender\n",
      "count  130.000000   124.000000  148.000000\n",
      "mean    30.484615  5312.467742    0.222973\n",
      "std     11.096640  2573.764683    0.417654\n",
      "min      0.000000  1089.000000    0.000000\n",
      "25%     22.000000  3030.000000    0.000000\n",
      "50%     32.500000  5000.000000    0.000000\n",
      "75%     37.750000  8000.000000    0.000000\n",
      "max     54.000000  9876.000000    1.000000\n"
     ]
    }
   ],
   "source": [
    "# Statistical summary of numerical columns\n",
    "print(\"Statistical Summary:\")\n",
    "print(df.describe())"
   ]
  },
  {
   "cell_type": "code",
   "execution_count": 114,
   "id": "52b86509-997c-4e21-a3d9-6105a0f22a3b",
   "metadata": {},
   "outputs": [
    {
     "name": "stdout",
     "output_type": "stream",
     "text": [
      "  Company_Name   Age  Salary      City Country_Name  Gender_Code\n",
      "0          TCS  20.0     NaN   Chennai        India            0\n",
      "1      Infosys  30.0     NaN    Mumbai        India            0\n",
      "2          TCS  35.0  2300.0  Calcutta        India            0\n",
      "3      Infosys  40.0  3000.0     Delhi        India            0\n",
      "4          TCS  23.0  4000.0    Mumbai        India            0\n"
     ]
    }
   ],
   "source": [
    "# renaming the columns \n",
    "new_column_names = {\n",
    "    \"Company\": \"Company_Name\",\n",
    "    \"Place\": \"City\",\n",
    "    \"Country\": \"Country_Name\",\n",
    "    \"Gender\": \"Gender_Code\"\n",
    "}\n",
    "\n",
    "# Rename columns in the dataframe\n",
    "df.rename(columns=new_column_names, inplace=True)\n",
    "print(df.head())"
   ]
  },
  {
   "cell_type": "markdown",
   "id": "5238d698-7d4c-4f53-ba89-63ae560698ce",
   "metadata": {},
   "source": [
    "# Data Cleaning: \n",
    "\n"
   ]
  },
  {
   "cell_type": "code",
   "execution_count": 116,
   "id": "a18a5c26-b232-4d14-83e8-1dc276442654",
   "metadata": {},
   "outputs": [
    {
     "data": {
      "text/plain": [
       "Company_Name     8\n",
       "Age             18\n",
       "Salary          24\n",
       "City            14\n",
       "Country_Name     0\n",
       "Gender_Code      0\n",
       "dtype: int64"
      ]
     },
     "execution_count": 116,
     "metadata": {},
     "output_type": "execute_result"
    }
   ],
   "source": [
    "#To check the null values or missing values in the data set \n",
    "df.isnull().sum()"
   ]
  },
  {
   "cell_type": "code",
   "execution_count": 117,
   "id": "39da1835-7768-4db0-a8bc-d93158c41d39",
   "metadata": {},
   "outputs": [
    {
     "name": "stdout",
     "output_type": "stream",
     "text": [
      "Null Value Percentage:\n",
      "Company_Name     5.405405\n",
      "Age             12.162162\n",
      "Salary          16.216216\n",
      "City             9.459459\n",
      "Country_Name     0.000000\n",
      "Gender_Code      0.000000\n",
      "dtype: float64\n"
     ]
    }
   ],
   "source": [
    "# Check Null Value Percentage\n",
    "null_percentage = (df.isnull().sum() / len(df)) * 100\n",
    "print(\"Null Value Percentage:\")\n",
    "print(null_percentage)"
   ]
  },
  {
   "cell_type": "code",
   "execution_count": 118,
   "id": "3d84bfc8-f8c4-498a-a0cc-e9409d8e28a0",
   "metadata": {},
   "outputs": [
    {
     "data": {
      "text/html": [
       "<div>\n",
       "<style scoped>\n",
       "    .dataframe tbody tr th:only-of-type {\n",
       "        vertical-align: middle;\n",
       "    }\n",
       "\n",
       "    .dataframe tbody tr th {\n",
       "        vertical-align: top;\n",
       "    }\n",
       "\n",
       "    .dataframe thead th {\n",
       "        text-align: right;\n",
       "    }\n",
       "</style>\n",
       "<table border=\"1\" class=\"dataframe\">\n",
       "  <thead>\n",
       "    <tr style=\"text-align: right;\">\n",
       "      <th></th>\n",
       "      <th>Company_Name</th>\n",
       "      <th>Age</th>\n",
       "      <th>Salary</th>\n",
       "      <th>City</th>\n",
       "      <th>Country_Name</th>\n",
       "      <th>Gender_Code</th>\n",
       "    </tr>\n",
       "  </thead>\n",
       "  <tbody>\n",
       "    <tr>\n",
       "      <th>0</th>\n",
       "      <td>TCS</td>\n",
       "      <td>20.0</td>\n",
       "      <td>5000.0</td>\n",
       "      <td>Chennai</td>\n",
       "      <td>India</td>\n",
       "      <td>0</td>\n",
       "    </tr>\n",
       "    <tr>\n",
       "      <th>1</th>\n",
       "      <td>Infosys</td>\n",
       "      <td>30.0</td>\n",
       "      <td>5000.0</td>\n",
       "      <td>Mumbai</td>\n",
       "      <td>India</td>\n",
       "      <td>0</td>\n",
       "    </tr>\n",
       "    <tr>\n",
       "      <th>2</th>\n",
       "      <td>TCS</td>\n",
       "      <td>35.0</td>\n",
       "      <td>2300.0</td>\n",
       "      <td>Calcutta</td>\n",
       "      <td>India</td>\n",
       "      <td>0</td>\n",
       "    </tr>\n",
       "    <tr>\n",
       "      <th>3</th>\n",
       "      <td>Infosys</td>\n",
       "      <td>40.0</td>\n",
       "      <td>3000.0</td>\n",
       "      <td>Delhi</td>\n",
       "      <td>India</td>\n",
       "      <td>0</td>\n",
       "    </tr>\n",
       "    <tr>\n",
       "      <th>4</th>\n",
       "      <td>TCS</td>\n",
       "      <td>23.0</td>\n",
       "      <td>4000.0</td>\n",
       "      <td>Mumbai</td>\n",
       "      <td>India</td>\n",
       "      <td>0</td>\n",
       "    </tr>\n",
       "    <tr>\n",
       "      <th>...</th>\n",
       "      <td>...</td>\n",
       "      <td>...</td>\n",
       "      <td>...</td>\n",
       "      <td>...</td>\n",
       "      <td>...</td>\n",
       "      <td>...</td>\n",
       "    </tr>\n",
       "    <tr>\n",
       "      <th>143</th>\n",
       "      <td>TCS</td>\n",
       "      <td>33.0</td>\n",
       "      <td>9024.0</td>\n",
       "      <td>Calcutta</td>\n",
       "      <td>India</td>\n",
       "      <td>1</td>\n",
       "    </tr>\n",
       "    <tr>\n",
       "      <th>144</th>\n",
       "      <td>Infosys</td>\n",
       "      <td>22.0</td>\n",
       "      <td>8787.0</td>\n",
       "      <td>Calcutta</td>\n",
       "      <td>India</td>\n",
       "      <td>1</td>\n",
       "    </tr>\n",
       "    <tr>\n",
       "      <th>145</th>\n",
       "      <td>Infosys</td>\n",
       "      <td>44.0</td>\n",
       "      <td>4034.0</td>\n",
       "      <td>Delhi</td>\n",
       "      <td>India</td>\n",
       "      <td>1</td>\n",
       "    </tr>\n",
       "    <tr>\n",
       "      <th>146</th>\n",
       "      <td>TCS</td>\n",
       "      <td>33.0</td>\n",
       "      <td>5034.0</td>\n",
       "      <td>Mumbai</td>\n",
       "      <td>India</td>\n",
       "      <td>1</td>\n",
       "    </tr>\n",
       "    <tr>\n",
       "      <th>147</th>\n",
       "      <td>Infosys</td>\n",
       "      <td>22.0</td>\n",
       "      <td>8202.0</td>\n",
       "      <td>Cochin</td>\n",
       "      <td>India</td>\n",
       "      <td>0</td>\n",
       "    </tr>\n",
       "  </tbody>\n",
       "</table>\n",
       "<p>148 rows × 6 columns</p>\n",
       "</div>"
      ],
      "text/plain": [
       "    Company_Name   Age  Salary      City Country_Name  Gender_Code\n",
       "0            TCS  20.0  5000.0   Chennai        India            0\n",
       "1        Infosys  30.0  5000.0    Mumbai        India            0\n",
       "2            TCS  35.0  2300.0  Calcutta        India            0\n",
       "3        Infosys  40.0  3000.0     Delhi        India            0\n",
       "4            TCS  23.0  4000.0    Mumbai        India            0\n",
       "..           ...   ...     ...       ...          ...          ...\n",
       "143          TCS  33.0  9024.0  Calcutta        India            1\n",
       "144      Infosys  22.0  8787.0  Calcutta        India            1\n",
       "145      Infosys  44.0  4034.0     Delhi        India            1\n",
       "146          TCS  33.0  5034.0    Mumbai        India            1\n",
       "147      Infosys  22.0  8202.0    Cochin        India            0\n",
       "\n",
       "[148 rows x 6 columns]"
      ]
     },
     "execution_count": 118,
     "metadata": {},
     "output_type": "execute_result"
    }
   ],
   "source": [
    "# Replace 0 in Age with NaN\n",
    "df[\"Age\"] = df[\"Age\"].replace(0, np.nan)\n",
    "\n",
    "# Handling missing values\n",
    "df[\"Age\"].fillna(df[\"Age\"].median(), inplace=True)  # Median for Age\n",
    "df[\"Salary\"].fillna(df[\"Salary\"].median(), inplace=True)  # Median for Salary\n",
    "df[\"Company_Name\"].fillna(df[\"Company_Name\"].mode()[0], inplace=True)  # Mode for Company_Name\n",
    "df[\"City\"].fillna(df[\"City\"].mode()[0], inplace=True)  # Mode for City\n",
    "df"
   ]
  },
  {
   "cell_type": "code",
   "execution_count": 119,
   "id": "6b46ec9e-cc5c-42b7-9f85-47a2592f63aa",
   "metadata": {},
   "outputs": [
    {
     "data": {
      "text/plain": [
       "4"
      ]
     },
     "execution_count": 119,
     "metadata": {},
     "output_type": "execute_result"
    }
   ],
   "source": [
    "df.duplicated().sum()"
   ]
  },
  {
   "cell_type": "code",
   "execution_count": 120,
   "id": "548ee926-df3b-4150-a005-9ed8aeb83093",
   "metadata": {},
   "outputs": [
    {
     "data": {
      "text/plain": [
       "0"
      ]
     },
     "execution_count": 120,
     "metadata": {},
     "output_type": "execute_result"
    }
   ],
   "source": [
    "# Remove duplicate rows\n",
    "df.drop_duplicates(inplace=True)\n",
    "df.duplicated().sum()"
   ]
  },
  {
   "cell_type": "code",
   "execution_count": 121,
   "id": "4ea1e3b2-8369-4e9b-9053-3d9b379766ed",
   "metadata": {},
   "outputs": [
    {
     "name": "stdout",
     "output_type": "stream",
     "text": [
      "<class 'pandas.core.frame.DataFrame'>\n",
      "Index: 144 entries, 0 to 147\n",
      "Data columns (total 6 columns):\n",
      " #   Column        Non-Null Count  Dtype  \n",
      "---  ------        --------------  -----  \n",
      " 0   Company_Name  144 non-null    object \n",
      " 1   Age           144 non-null    float64\n",
      " 2   Salary        144 non-null    float64\n",
      " 3   City          144 non-null    object \n",
      " 4   Country_Name  144 non-null    object \n",
      " 5   Gender_Code   144 non-null    int64  \n",
      "dtypes: float64(2), int64(1), object(3)\n",
      "memory usage: 7.9+ KB\n",
      "None\n",
      "  Company_Name   Age  Salary      City Country_Name  Gender_Code\n",
      "0          TCS  20.0  5000.0   Chennai        India            0\n",
      "1      Infosys  30.0  5000.0    Mumbai        India            0\n",
      "2          TCS  35.0  2300.0  Calcutta        India            0\n",
      "3      Infosys  40.0  3000.0     Delhi        India            0\n",
      "4          TCS  23.0  4000.0    Mumbai        India            0\n",
      "Empty DataFrame\n",
      "Columns: [Company_Name, Age, Salary, City, Country_Name, Gender_Code]\n",
      "Index: []\n"
     ]
    }
   ],
   "source": [
    "# Detect outliers using IQR method\n",
    "Q1 = df[[\"Age\", \"Salary\"]].quantile(0.25)\n",
    "Q3 = df[[\"Age\", \"Salary\"]].quantile(0.75)\n",
    "IQR = Q3 - Q1\n",
    "\n",
    "# Define outlier bounds\n",
    "lower_bound = Q1 - 1.5 * IQR\n",
    "upper_bound = Q3 + 1.5 * IQR\n",
    "\n",
    "# Find outliers\n",
    "outliers = df[((df[\"Age\"] < lower_bound[\"Age\"]) | (df[\"Age\"] > upper_bound[\"Age\"])) |\n",
    "              ((df[\"Salary\"] < lower_bound[\"Salary\"]) | (df[\"Salary\"] > upper_bound[\"Salary\"]))]\n",
    "\n",
    "df_cleaned = df.copy()  # Keeping a cleaned copy\n",
    "\n",
    "# Display results\n",
    "print(df_cleaned.info())\n",
    "print(df_cleaned.head())\n",
    "print(outliers)"
   ]
  },
  {
   "cell_type": "code",
   "execution_count": 122,
   "id": "8421af8a-97c1-46dc-bb47-b017abb34472",
   "metadata": {},
   "outputs": [
    {
     "data": {
      "text/html": [
       "<div>\n",
       "<style scoped>\n",
       "    .dataframe tbody tr th:only-of-type {\n",
       "        vertical-align: middle;\n",
       "    }\n",
       "\n",
       "    .dataframe tbody tr th {\n",
       "        vertical-align: top;\n",
       "    }\n",
       "\n",
       "    .dataframe thead th {\n",
       "        text-align: right;\n",
       "    }\n",
       "</style>\n",
       "<table border=\"1\" class=\"dataframe\">\n",
       "  <thead>\n",
       "    <tr style=\"text-align: right;\">\n",
       "      <th></th>\n",
       "      <th>Company_Name</th>\n",
       "      <th>Age</th>\n",
       "      <th>Salary</th>\n",
       "      <th>City</th>\n",
       "      <th>Country_Name</th>\n",
       "      <th>Gender_Code</th>\n",
       "    </tr>\n",
       "  </thead>\n",
       "  <tbody>\n",
       "    <tr>\n",
       "      <th>0</th>\n",
       "      <td>TCS</td>\n",
       "      <td>20.0</td>\n",
       "      <td>5000.0</td>\n",
       "      <td>Chennai</td>\n",
       "      <td>India</td>\n",
       "      <td>0</td>\n",
       "    </tr>\n",
       "    <tr>\n",
       "      <th>1</th>\n",
       "      <td>Infosys</td>\n",
       "      <td>30.0</td>\n",
       "      <td>5000.0</td>\n",
       "      <td>Mumbai</td>\n",
       "      <td>India</td>\n",
       "      <td>0</td>\n",
       "    </tr>\n",
       "    <tr>\n",
       "      <th>2</th>\n",
       "      <td>TCS</td>\n",
       "      <td>35.0</td>\n",
       "      <td>2300.0</td>\n",
       "      <td>Calcutta</td>\n",
       "      <td>India</td>\n",
       "      <td>0</td>\n",
       "    </tr>\n",
       "    <tr>\n",
       "      <th>3</th>\n",
       "      <td>Infosys</td>\n",
       "      <td>40.0</td>\n",
       "      <td>3000.0</td>\n",
       "      <td>Delhi</td>\n",
       "      <td>India</td>\n",
       "      <td>0</td>\n",
       "    </tr>\n",
       "    <tr>\n",
       "      <th>4</th>\n",
       "      <td>TCS</td>\n",
       "      <td>23.0</td>\n",
       "      <td>4000.0</td>\n",
       "      <td>Mumbai</td>\n",
       "      <td>India</td>\n",
       "      <td>0</td>\n",
       "    </tr>\n",
       "    <tr>\n",
       "      <th>...</th>\n",
       "      <td>...</td>\n",
       "      <td>...</td>\n",
       "      <td>...</td>\n",
       "      <td>...</td>\n",
       "      <td>...</td>\n",
       "      <td>...</td>\n",
       "    </tr>\n",
       "    <tr>\n",
       "      <th>142</th>\n",
       "      <td>Infosys Pvt Lmt</td>\n",
       "      <td>22.0</td>\n",
       "      <td>8202.0</td>\n",
       "      <td>Mumbai</td>\n",
       "      <td>India</td>\n",
       "      <td>0</td>\n",
       "    </tr>\n",
       "    <tr>\n",
       "      <th>143</th>\n",
       "      <td>TCS</td>\n",
       "      <td>33.0</td>\n",
       "      <td>9024.0</td>\n",
       "      <td>Calcutta</td>\n",
       "      <td>India</td>\n",
       "      <td>1</td>\n",
       "    </tr>\n",
       "    <tr>\n",
       "      <th>145</th>\n",
       "      <td>Infosys</td>\n",
       "      <td>44.0</td>\n",
       "      <td>4034.0</td>\n",
       "      <td>Delhi</td>\n",
       "      <td>India</td>\n",
       "      <td>1</td>\n",
       "    </tr>\n",
       "    <tr>\n",
       "      <th>146</th>\n",
       "      <td>TCS</td>\n",
       "      <td>33.0</td>\n",
       "      <td>5034.0</td>\n",
       "      <td>Mumbai</td>\n",
       "      <td>India</td>\n",
       "      <td>1</td>\n",
       "    </tr>\n",
       "    <tr>\n",
       "      <th>147</th>\n",
       "      <td>Infosys</td>\n",
       "      <td>22.0</td>\n",
       "      <td>8202.0</td>\n",
       "      <td>Cochin</td>\n",
       "      <td>India</td>\n",
       "      <td>0</td>\n",
       "    </tr>\n",
       "  </tbody>\n",
       "</table>\n",
       "<p>144 rows × 6 columns</p>\n",
       "</div>"
      ],
      "text/plain": [
       "        Company_Name   Age  Salary      City Country_Name  Gender_Code\n",
       "0                TCS  20.0  5000.0   Chennai        India            0\n",
       "1            Infosys  30.0  5000.0    Mumbai        India            0\n",
       "2                TCS  35.0  2300.0  Calcutta        India            0\n",
       "3            Infosys  40.0  3000.0     Delhi        India            0\n",
       "4                TCS  23.0  4000.0    Mumbai        India            0\n",
       "..               ...   ...     ...       ...          ...          ...\n",
       "142  Infosys Pvt Lmt  22.0  8202.0    Mumbai        India            0\n",
       "143              TCS  33.0  9024.0  Calcutta        India            1\n",
       "145          Infosys  44.0  4034.0     Delhi        India            1\n",
       "146              TCS  33.0  5034.0    Mumbai        India            1\n",
       "147          Infosys  22.0  8202.0    Cochin        India            0\n",
       "\n",
       "[144 rows x 6 columns]"
      ]
     },
     "execution_count": 122,
     "metadata": {},
     "output_type": "execute_result"
    }
   ],
   "source": [
    "df"
   ]
  },
  {
   "cell_type": "markdown",
   "id": "7c1b56d5-f76e-4b72-8794-7f7ab1362f4b",
   "metadata": {},
   "source": [
    "# Data Analysis:\n",
    "Filter the data with age >40 and salary<5000\n",
    "Plot the chart with age and salary\n",
    "Count the number of people from each place and represent it visually\n"
   ]
  },
  {
   "cell_type": "code",
   "execution_count": 124,
   "id": "a2a68797-604b-43a6-99a7-de0357d7097d",
   "metadata": {},
   "outputs": [
    {
     "name": "stdout",
     "output_type": "stream",
     "text": [
      "   Company_Name   Age  Salary       City Country_Name  Gender_Code\n",
      "21      Infosys  50.0  3184.0      Delhi        India            0\n",
      "32      Infosys  45.0  4034.0   Calcutta        India            0\n",
      "39      Infosys  41.0  3000.0     Mumbai        India            0\n",
      "50      Infosys  41.0  3000.0    Chennai        India            0\n",
      "57      Infosys  51.0  3184.0  Hyderabad        India            0\n"
     ]
    },
    {
     "data": {
      "image/png": "[encoded data removed]",
      "text/plain": [
       "<Figure size 800x500 with 1 Axes>"
      ]
     },
     "metadata": {},
     "output_type": "display_data"
    },
    {
     "data": {
      "image/png": "[encoded data removed]",
      "text/plain": [
       "<Figure size 1000x500 with 1 Axes>"
      ]
     },
     "metadata": {},
     "output_type": "display_data"
    }
   ],
   "source": [
    "import matplotlib.pyplot as plt\n",
    "import seaborn as sns\n",
    "\n",
    "# Filter data with Age > 40 and Salary < 5000\n",
    "filtered_df = df_cleaned[(df_cleaned[\"Age\"] > 40) & (df_cleaned[\"Salary\"] < 5000)]\n",
    "print(filtered_df.head())  # Display the first few filtered rows\n",
    "\n",
    "# Plot Age vs Salary scatter plot\n",
    "plt.figure(figsize=(8, 5))\n",
    "sns.scatterplot(data=df_cleaned, x=\"Age\", y=\"Salary\", color=\"blue\")\n",
    "plt.title(\"Age vs Salary Distribution\")\n",
    "plt.xlabel(\"Age\")\n",
    "plt.ylabel(\"Salary\")\n",
    "plt.grid(True)\n",
    "plt.show()\n",
    "\n",
    "# Count people from each place\n",
    "city_counts = df_cleaned[\"City\"].value_counts()\n",
    "\n",
    "# Plot bar chart for city-wise count\n",
    "plt.figure(figsize=(10, 5))\n",
    "sns.barplot(x=city_counts.index, y=city_counts.values, palette=\"viridis\")\n",
    "plt.xticks(rotation=45)\n",
    "plt.title(\"Number of People from Each City\")\n",
    "plt.xlabel(\"City\")\n",
    "plt.ylabel(\"Count\")\n",
    "plt.show()\n"
   ]
  },
  {
   "cell_type": "markdown",
   "id": "4e8016b5-2f5b-4339-93ca-8a54cfb06106",
   "metadata": {},
   "source": [
    "# Data Encoding: \n",
    "Convert categorical variables into numerical representations using techniques such as \n",
    "one-hot encoding, label encoding, making them suitable for analysis by machine learning algorithms.\n"
   ]
  },
  {
   "cell_type": "code",
   "execution_count": 126,
   "id": "37fc38c0-90ba-4ae7-84b0-99bc2f636092",
   "metadata": {},
   "outputs": [
    {
     "name": "stdout",
     "output_type": "stream",
     "text": [
      "Categorical Columns: ['Company_Name', 'City', 'Country_Name']\n",
      "Numerical Columns: ['Age', 'Salary', 'Gender_Code']\n"
     ]
    }
   ],
   "source": [
    "# Differentiating Columns\n",
    "categorical_columns = df.select_dtypes(include=['object', 'category']).columns.tolist()\n",
    "numerical_columns = df.select_dtypes(include=['int64', 'float64']).columns.tolist()\n",
    "\n",
    "# Print Results\n",
    "print(\"Categorical Columns:\", categorical_columns)\n",
    "print(\"Numerical Columns:\", numerical_columns)"
   ]
  },
  {
   "cell_type": "code",
   "execution_count": 127,
   "id": "d1686635-4bb3-4dae-aad5-65c073c45131",
   "metadata": {},
   "outputs": [
    {
     "data": {
      "text/plain": [
       "<bound method NDFrame.copy of         Company_Name   Age  Salary      City Country_Name  Gender_Code\n",
       "0                TCS  20.0  5000.0   Chennai        India            0\n",
       "1            Infosys  30.0  5000.0    Mumbai        India            0\n",
       "2                TCS  35.0  2300.0  Calcutta        India            0\n",
       "3            Infosys  40.0  3000.0     Delhi        India            0\n",
       "4                TCS  23.0  4000.0    Mumbai        India            0\n",
       "..               ...   ...     ...       ...          ...          ...\n",
       "142  Infosys Pvt Lmt  22.0  8202.0    Mumbai        India            0\n",
       "143              TCS  33.0  9024.0  Calcutta        India            1\n",
       "145          Infosys  44.0  4034.0     Delhi        India            1\n",
       "146              TCS  33.0  5034.0    Mumbai        India            1\n",
       "147          Infosys  22.0  8202.0    Cochin        India            0\n",
       "\n",
       "[144 rows x 6 columns]>"
      ]
     },
     "execution_count": 127,
     "metadata": {},
     "output_type": "execute_result"
    }
   ],
   "source": [
    "df2=df.copy\n",
    "df2"
   ]
  },
  {
   "cell_type": "code",
   "execution_count": 128,
   "id": "859867b3-5325-4449-af3a-0dc24d47740c",
   "metadata": {},
   "outputs": [],
   "source": [
    "# Label Encoding for categorical columns\n",
    "label_encoders = {}\n",
    "categorical_columns = ['Company_Name', 'City', 'Country_Name']\n",
    "\n",
    "for col in categorical_columns:\n",
    "    le = LabelEncoder()\n",
    "    df[col] = le.fit_transform(df[col])\n",
    "    label_encoders[col] = le"
   ]
  },
  {
   "cell_type": "code",
   "execution_count": 129,
   "id": "0a87dd76-87f2-49d3-b1bd-4bbd71b87d27",
   "metadata": {},
   "outputs": [
    {
     "data": {
      "text/html": [
       "<div>\n",
       "<style scoped>\n",
       "    .dataframe tbody tr th:only-of-type {\n",
       "        vertical-align: middle;\n",
       "    }\n",
       "\n",
       "    .dataframe tbody tr th {\n",
       "        vertical-align: top;\n",
       "    }\n",
       "\n",
       "    .dataframe thead th {\n",
       "        text-align: right;\n",
       "    }\n",
       "</style>\n",
       "<table border=\"1\" class=\"dataframe\">\n",
       "  <thead>\n",
       "    <tr style=\"text-align: right;\">\n",
       "      <th></th>\n",
       "      <th>Company_Name</th>\n",
       "      <th>Age</th>\n",
       "      <th>Salary</th>\n",
       "      <th>City</th>\n",
       "      <th>Country_Name</th>\n",
       "      <th>Gender_Code</th>\n",
       "    </tr>\n",
       "  </thead>\n",
       "  <tbody>\n",
       "    <tr>\n",
       "      <th>0</th>\n",
       "      <td>4</td>\n",
       "      <td>20.0</td>\n",
       "      <td>5000.0</td>\n",
       "      <td>2</td>\n",
       "      <td>0</td>\n",
       "      <td>0</td>\n",
       "    </tr>\n",
       "    <tr>\n",
       "      <th>1</th>\n",
       "      <td>2</td>\n",
       "      <td>30.0</td>\n",
       "      <td>5000.0</td>\n",
       "      <td>6</td>\n",
       "      <td>0</td>\n",
       "      <td>0</td>\n",
       "    </tr>\n",
       "    <tr>\n",
       "      <th>2</th>\n",
       "      <td>4</td>\n",
       "      <td>35.0</td>\n",
       "      <td>2300.0</td>\n",
       "      <td>1</td>\n",
       "      <td>0</td>\n",
       "      <td>0</td>\n",
       "    </tr>\n",
       "    <tr>\n",
       "      <th>3</th>\n",
       "      <td>2</td>\n",
       "      <td>40.0</td>\n",
       "      <td>3000.0</td>\n",
       "      <td>4</td>\n",
       "      <td>0</td>\n",
       "      <td>0</td>\n",
       "    </tr>\n",
       "    <tr>\n",
       "      <th>4</th>\n",
       "      <td>4</td>\n",
       "      <td>23.0</td>\n",
       "      <td>4000.0</td>\n",
       "      <td>6</td>\n",
       "      <td>0</td>\n",
       "      <td>0</td>\n",
       "    </tr>\n",
       "    <tr>\n",
       "      <th>...</th>\n",
       "      <td>...</td>\n",
       "      <td>...</td>\n",
       "      <td>...</td>\n",
       "      <td>...</td>\n",
       "      <td>...</td>\n",
       "      <td>...</td>\n",
       "    </tr>\n",
       "    <tr>\n",
       "      <th>142</th>\n",
       "      <td>3</td>\n",
       "      <td>22.0</td>\n",
       "      <td>8202.0</td>\n",
       "      <td>6</td>\n",
       "      <td>0</td>\n",
       "      <td>0</td>\n",
       "    </tr>\n",
       "    <tr>\n",
       "      <th>143</th>\n",
       "      <td>4</td>\n",
       "      <td>33.0</td>\n",
       "      <td>9024.0</td>\n",
       "      <td>1</td>\n",
       "      <td>0</td>\n",
       "      <td>1</td>\n",
       "    </tr>\n",
       "    <tr>\n",
       "      <th>145</th>\n",
       "      <td>2</td>\n",
       "      <td>44.0</td>\n",
       "      <td>4034.0</td>\n",
       "      <td>4</td>\n",
       "      <td>0</td>\n",
       "      <td>1</td>\n",
       "    </tr>\n",
       "    <tr>\n",
       "      <th>146</th>\n",
       "      <td>4</td>\n",
       "      <td>33.0</td>\n",
       "      <td>5034.0</td>\n",
       "      <td>6</td>\n",
       "      <td>0</td>\n",
       "      <td>1</td>\n",
       "    </tr>\n",
       "    <tr>\n",
       "      <th>147</th>\n",
       "      <td>2</td>\n",
       "      <td>22.0</td>\n",
       "      <td>8202.0</td>\n",
       "      <td>3</td>\n",
       "      <td>0</td>\n",
       "      <td>0</td>\n",
       "    </tr>\n",
       "  </tbody>\n",
       "</table>\n",
       "<p>144 rows × 6 columns</p>\n",
       "</div>"
      ],
      "text/plain": [
       "     Company_Name   Age  Salary  City  Country_Name  Gender_Code\n",
       "0               4  20.0  5000.0     2             0            0\n",
       "1               2  30.0  5000.0     6             0            0\n",
       "2               4  35.0  2300.0     1             0            0\n",
       "3               2  40.0  3000.0     4             0            0\n",
       "4               4  23.0  4000.0     6             0            0\n",
       "..            ...   ...     ...   ...           ...          ...\n",
       "142             3  22.0  8202.0     6             0            0\n",
       "143             4  33.0  9024.0     1             0            1\n",
       "145             2  44.0  4034.0     4             0            1\n",
       "146             4  33.0  5034.0     6             0            1\n",
       "147             2  22.0  8202.0     3             0            0\n",
       "\n",
       "[144 rows x 6 columns]"
      ]
     },
     "execution_count": 129,
     "metadata": {},
     "output_type": "execute_result"
    }
   ],
   "source": [
    "df"
   ]
  },
  {
   "cell_type": "code",
   "execution_count": 130,
   "id": "542bc6a1-3553-4679-8a3e-ea46a080885c",
   "metadata": {},
   "outputs": [
    {
     "name": "stdout",
     "output_type": "stream",
     "text": [
      "     Company_Name   Age  Salary  City  Country_Name  Gender_Code\n",
      "0               4  20.0  5000.0     2             0            0\n",
      "1               2  30.0  5000.0     6             0            0\n",
      "2               4  35.0  2300.0     1             0            0\n",
      "3               2  40.0  3000.0     4             0            0\n",
      "4               4  23.0  4000.0     6             0            0\n",
      "..            ...   ...     ...   ...           ...          ...\n",
      "142             3  22.0  8202.0     6             0            0\n",
      "143             4  33.0  9024.0     1             0            1\n",
      "145             2  44.0  4034.0     4             0            1\n",
      "146             4  33.0  5034.0     6             0            1\n",
      "147             2  22.0  8202.0     3             0            0\n",
      "\n",
      "[144 rows x 6 columns]\n"
     ]
    }
   ],
   "source": [
    "# label encoder\n",
    "# Create a copy of the original DataFrame\n",
    "df2_label_encoded = df.copy()\n",
    "\n",
    "# Initialize LabelEncoder for each categorical column\n",
    "label_Company_Name= LabelEncoder()\n",
    "label_City = LabelEncoder()\n",
    "label_Country_Name = LabelEncoder()\n",
    "\n",
    "# Fit and transform the categorical columns \n",
    "df2_label_encoded['Company_Name'] = label_Company_Name.fit_transform(df2_label_encoded['Company_Name'])\n",
    "df2_label_encoded['City'] = label_City.fit_transform(df2_label_encoded['City'])\n",
    "df2_label_encoded['Country_Name'] = label_Country_Name.fit_transform(df2_label_encoded['Country_Name'])\n",
    "\n",
    "print(df2_label_encoded)"
   ]
  },
  {
   "cell_type": "code",
   "execution_count": 131,
   "id": "06726f35-da9e-43ac-88a2-7c1d4d6220b5",
   "metadata": {},
   "outputs": [
    {
     "data": {
      "image/png": "[encoded data removed]",
      "text/plain": [
       "<Figure size 1000x600 with 2 Axes>"
      ]
     },
     "metadata": {},
     "output_type": "display_data"
    }
   ],
   "source": [
    "\n",
    "# Compute correlation matrix\n",
    "import numpy as np\n",
    "import pandas as pd\n",
    "import seaborn as sns\n",
    "import matplotlib.pyplot as plt\n",
    "\n",
    "plt.figure(figsize=(10,6))\n",
    "sns.heatmap(df2_label_encoded.corr(), annot=True, cmap='coolwarm')\n",
    "plt.title(\"Correlation Heatmap\")\n",
    "plt.show()"
   ]
  },
  {
   "cell_type": "code",
   "execution_count": 132,
   "id": "99bee5fd-1d17-4d7b-9bd6-07d9d85cf5ab",
   "metadata": {},
   "outputs": [
    {
     "name": "stdout",
     "output_type": "stream",
     "text": [
      "Salary          1.000000\n",
      "Gender_Code     0.643327\n",
      "Company_Name    0.162841\n",
      "City            0.038223\n",
      "Age            -0.017937\n",
      "Country_Name         NaN\n",
      "Name: Salary, dtype: float64\n"
     ]
    }
   ],
   "source": [
    "# Correlation with target variable\n",
    "print(df2_label_encoded.corr()['Salary'].sort_values(ascending=False))"
   ]
  },
  {
   "cell_type": "code",
   "execution_count": 133,
   "id": "3940b534-6fa4-42d6-a8cd-a2290372e6d5",
   "metadata": {},
   "outputs": [
    {
     "name": "stdout",
     "output_type": "stream",
     "text": [
      "Selected Features: Index(['Company_Name', 'Age', 'Gender_Code'], dtype='object')\n"
     ]
    }
   ],
   "source": [
    "from sklearn.feature_selection import SelectKBest, f_classif\n",
    "# SelectKBest for feature selection\n",
    "X = df2_label_encoded.drop(columns=['Salary'])  # Features\n",
    "y = df2_label_encoded['Salary']  # Target\n",
    "\n",
    "select_k = SelectKBest(score_func=f_classif, k=3)  # Selecting Top 1 feature, depends on the person\n",
    "X_selected = select_k.fit_transform(X, y)\n",
    "\n",
    "print(\"Selected Features:\", X.columns[select_k.get_support()])"
   ]
  },
  {
   "cell_type": "markdown",
   "id": "0eb5b672-2c9a-4905-b483-c9f53a29595a",
   "metadata": {},
   "source": [
    "# Feature Scaling: \n",
    "After the process of encoding, perform the scaling of the features using standardscaler and minmaxscaler.\n"
   ]
  },
  {
   "cell_type": "code",
   "execution_count": 135,
   "id": "a3a93c53-7707-4850-b9d1-ade29e6d2ab8",
   "metadata": {},
   "outputs": [],
   "source": [
    "from sklearn.model_selection import train_test_split"
   ]
  },
  {
   "cell_type": "code",
   "execution_count": 136,
   "id": "44b8ad4b-1522-4072-9a26-7a98f0ac42ea",
   "metadata": {},
   "outputs": [],
   "source": [
    "#Splitting the Data (80-20% split)\n",
    "X = df[['Company_Name', 'Age', 'Gender_Code']]  # Features\n",
    "y = df['Salary']  # Target variable"
   ]
  },
  {
   "cell_type": "code",
   "execution_count": 137,
   "id": "b896078c-234a-4bf8-9ffd-a86320d16a60",
   "metadata": {},
   "outputs": [
    {
     "name": "stdout",
     "output_type": "stream",
     "text": [
      "\n",
      "Training Data (Features):\n",
      "     Company_Name   Age  Gender_Code\n",
      "125             4  33.0            1\n",
      "31              0  20.0            0\n",
      "99              0  44.0            1\n",
      "36              4  32.0            0\n",
      "16              2  23.0            0\n",
      "..            ...   ...          ...\n",
      "71              4  34.0            1\n",
      "107             4  33.0            1\n",
      "14              2  40.0            0\n",
      "93              2  54.0            0\n",
      "103             0  22.0            0\n",
      "\n",
      "[115 rows x 3 columns]\n",
      "\n",
      "Testing Data (Features):\n",
      "     Company_Name   Age  Gender_Code\n",
      "118             0  22.0            0\n",
      "19              2  32.0            0\n",
      "82              0  22.0            0\n",
      "98              4  33.0            1\n",
      "56              4  38.0            0\n",
      "12              0  45.0            0\n",
      "135             0  40.0            1\n",
      "65              0  31.0            0\n",
      "66              0  41.0            0\n",
      "18              4  22.0            0\n",
      "51              4  24.0            0\n",
      "78              4  33.0            0\n",
      "95              2  33.0            0\n",
      "136             4  33.0            0\n",
      "101             0  33.0            0\n",
      "64              4  25.0            0\n",
      "27              0  45.0            1\n",
      "69              4  32.0            0\n",
      "126             4  20.0            1\n",
      "73              2  34.0            0\n",
      "11              0  34.0            0\n",
      "120             0  44.0            0\n",
      "111             2  33.0            0\n",
      "114             4  33.0            0\n",
      "55              2  32.0            0\n",
      "45              0  46.0            1\n",
      "9               0  45.0            0\n",
      "4               4  23.0            0\n",
      "26              4  34.0            1\n"
     ]
    }
   ],
   "source": [
    "X_train, X_test, y_train, y_test = train_test_split(X, y, test_size=0.2, random_state=42)\n",
    "\n",
    "print(\"\\nTraining Data (Features):\")\n",
    "print(X_train)\n",
    "print(\"\\nTesting Data (Features):\")\n",
    "print(X_test)"
   ]
  },
  {
   "cell_type": "code",
   "execution_count": 138,
   "id": "0a28cd39-c746-4db7-927c-2419fa27e0c5",
   "metadata": {},
   "outputs": [],
   "source": [
    "# StandardScaler (Standard Scaling)\n",
    "scaler_standard = StandardScaler()\n",
    "X_train_scaled_standard = scaler_standard.fit_transform(X_train)\n",
    "X_test_scaled_standard = scaler_standard.transform(X_test)"
   ]
  },
  {
   "cell_type": "code",
   "execution_count": 139,
   "id": "f4bf75ec-578f-4696-8490-784fa99649d3",
   "metadata": {},
   "outputs": [
    {
     "name": "stdout",
     "output_type": "stream",
     "text": [
      "\n",
      "Standard Scaled Training Data:\n",
      "[[ 0.9718699   0.12588645  1.85015592]\n",
      " [-1.59744133 -1.42948749 -0.54049499]\n",
      " [-1.59744133  1.4419721   1.85015592]\n",
      " [ 0.9718699   0.0062423  -0.54049499]\n",
      " [-0.31278572 -1.07055504 -0.54049499]\n",
      " [-1.59744133 -1.07055504 -0.54049499]\n",
      " [ 0.9718699  -1.19019919 -0.54049499]\n",
      " [ 0.9718699  -1.19019919 -0.54049499]\n",
      " [ 0.9718699   0.12588645 -0.54049499]\n",
      " [-1.59744133  0.12588645 -0.54049499]\n",
      " [ 0.9718699   0.12588645 -0.54049499]\n",
      " [-0.31278572 -1.19019919  1.85015592]\n",
      " [ 0.9718699   0.12588645 -0.54049499]\n",
      " [ 0.9718699  -1.42948749 -0.54049499]\n",
      " [-1.59744133 -1.78841994 -0.54049499]\n",
      " [-1.59744133 -1.07055504  1.85015592]\n",
      " [ 0.9718699  -0.95091089 -0.54049499]\n",
      " [ 0.9718699  -1.30984334 -0.54049499]\n",
      " [ 0.9718699   0.12588645  1.85015592]\n",
      " [-0.31278572 -1.07055504  1.85015592]\n",
      " [-0.31278572  0.12588645 -0.54049499]\n",
      " [ 0.9718699   0.12588645  1.85015592]\n",
      " [-0.95511352 -1.30984334 -0.54049499]\n",
      " [ 0.9718699   0.36517475  1.85015592]\n",
      " [ 0.9718699  -1.07055504 -0.54049499]\n",
      " [ 0.9718699   0.12588645  1.85015592]\n",
      " [-0.31278572  1.08303965 -0.54049499]\n",
      " [ 0.9718699  -1.30984334 -0.54049499]\n",
      " [-0.31278572  1.32232795 -0.54049499]\n",
      " [ 0.9718699   0.0062423  -0.54049499]\n",
      " [ 0.9718699   0.12588645  1.85015592]\n",
      " [-1.59744133  0.0062423  -0.54049499]\n",
      " [-1.59744133  1.6812604  -0.54049499]\n",
      " [-0.31278572  0.12588645 -0.54049499]\n",
      " [ 0.9718699   0.0062423  -0.54049499]\n",
      " [-0.31278572  1.4419721  -0.54049499]\n",
      " [ 0.9718699   0.4848189  -0.54049499]\n",
      " [-1.59744133  1.32232795  1.85015592]\n",
      " [ 0.9718699   0.12588645  1.85015592]\n",
      " [ 1.61419771  0.4848189   1.85015592]\n",
      " [ 0.32954209 -1.19019919 -0.54049499]\n",
      " [-1.59744133  1.4419721  -0.54049499]\n",
      " [ 0.9718699   0.36517475 -0.54049499]\n",
      " [-0.31278572  0.12588645 -0.54049499]\n",
      " [-0.31278572  1.08303965 -0.54049499]\n",
      " [ 0.9718699   0.12588645 -0.54049499]\n",
      " [-1.59744133 -1.54913164 -0.54049499]\n",
      " [ 0.9718699   0.36517475  1.85015592]\n",
      " [-0.31278572  0.12588645 -0.54049499]\n",
      " [-0.31278572 -0.7116226  -0.54049499]\n",
      " [ 1.61419771 -0.11340185 -0.54049499]\n",
      " [-0.31278572 -1.07055504  1.85015592]\n",
      " [-0.31278572 -0.83126674 -0.54049499]\n",
      " [ 0.32954209 -1.30984334 -0.54049499]\n",
      " [ 0.9718699  -1.30984334 -0.54049499]\n",
      " [-1.59744133  0.12588645 -0.54049499]\n",
      " [-0.31278572 -1.19019919  1.85015592]\n",
      " [ 0.9718699   0.12588645  1.85015592]\n",
      " [ 0.9718699   0.2455306   1.85015592]\n",
      " [-1.59744133 -1.66877579 -0.54049499]\n",
      " [ 0.9718699   0.12588645 -0.54049499]\n",
      " [-0.31278572 -1.19019919 -0.54049499]\n",
      " [-0.31278572  0.9633955  -0.54049499]\n",
      " [ 0.9718699   0.2455306  -0.54049499]\n",
      " [ 0.9718699   0.2455306  -0.54049499]\n",
      " [ 0.9718699  -0.95091089 -0.54049499]\n",
      " [-1.59744133  0.12588645 -0.54049499]\n",
      " [ 0.9718699   0.12588645  1.85015592]\n",
      " [-1.59744133  1.4419721  -0.54049499]\n",
      " [ 0.9718699   0.36517475 -0.54049499]\n",
      " [ 0.9718699   0.12588645 -0.54049499]\n",
      " [ 0.9718699  -1.30984334 -0.54049499]\n",
      " [-0.31278572  1.08303965 -0.54049499]\n",
      " [ 0.9718699   0.12588645 -0.54049499]\n",
      " [-1.59744133 -0.95091089 -0.54049499]\n",
      " [-0.31278572 -1.19019919  1.85015592]\n",
      " [ 0.9718699  -0.83126674  1.85015592]\n",
      " [-0.31278572  1.4419721   1.85015592]\n",
      " [-0.31278572 -0.7116226  -0.54049499]\n",
      " [-0.95511352 -1.19019919 -0.54049499]\n",
      " [ 0.9718699   0.12588645 -0.54049499]\n",
      " [-0.31278572  0.12588645 -0.54049499]\n",
      " [ 0.9718699  -1.07055504 -0.54049499]\n",
      " [-0.31278572  0.2455306  -0.54049499]\n",
      " [-1.59744133  1.32232795 -0.54049499]\n",
      " [ 0.9718699   0.4848189  -0.54049499]\n",
      " [-0.31278572 -0.233046   -0.54049499]\n",
      " [-0.31278572  2.159837   -0.54049499]\n",
      " [-0.31278572  2.27948115 -0.54049499]\n",
      " [-0.31278572  1.4419721  -0.54049499]\n",
      " [-0.31278572  1.56161625 -0.54049499]\n",
      " [ 0.9718699   0.12588645 -0.54049499]\n",
      " [-0.31278572  0.12588645 -0.54049499]\n",
      " [-1.59744133  1.08303965  1.85015592]\n",
      " [-0.31278572  2.159837   -0.54049499]\n",
      " [ 0.9718699   0.36517475 -0.54049499]\n",
      " [-1.59744133  0.36517475 -0.54049499]\n",
      " [ 0.9718699   0.12588645 -0.54049499]\n",
      " [-1.59744133 -0.11340185 -0.54049499]\n",
      " [-0.31278572 -0.233046   -0.54049499]\n",
      " [-0.31278572 -1.30984334 -0.54049499]\n",
      " [ 0.9718699  -1.19019919 -0.54049499]\n",
      " [-0.31278572  1.4419721  -0.54049499]\n",
      " [-1.59744133 -1.19019919 -0.54049499]\n",
      " [-1.59744133  1.4419721   1.85015592]\n",
      " [-0.31278572  0.12588645 -0.54049499]\n",
      " [ 0.9718699   0.60446305 -0.54049499]\n",
      " [-0.31278572  1.4419721  -0.54049499]\n",
      " [-0.31278572 -1.19019919 -0.54049499]\n",
      " [ 0.9718699   0.60446305 -0.54049499]\n",
      " [ 0.9718699   0.2455306   1.85015592]\n",
      " [ 0.9718699   0.12588645  1.85015592]\n",
      " [-0.31278572  0.9633955  -0.54049499]\n",
      " [-0.31278572  2.6384136  -0.54049499]\n",
      " [-1.59744133 -1.19019919 -0.54049499]]\n"
     ]
    }
   ],
   "source": [
    "print(\"\\nStandard Scaled Training Data:\")\n",
    "print(X_train_scaled_standard)\n"
   ]
  },
  {
   "cell_type": "code",
   "execution_count": 140,
   "id": "6111f414-f025-4b44-9e26-64d10f229ed9",
   "metadata": {},
   "outputs": [
    {
     "name": "stdout",
     "output_type": "stream",
     "text": [
      "(115, 3)\n",
      "(115, 3)\n"
     ]
    }
   ],
   "source": [
    "print(X_train.shape)\n",
    "print(X_train_scaled_standard.shape)\n"
   ]
  },
  {
   "cell_type": "code",
   "execution_count": 141,
   "id": "d99f3856-81c4-4a2f-bebf-00ab33468f75",
   "metadata": {},
   "outputs": [
    {
     "name": "stdout",
     "output_type": "stream",
     "text": [
      "3\n"
     ]
    }
   ],
   "source": [
    "print(len(X_train_scaled_standard[0]))\n"
   ]
  }
 ],
 "metadata": {
  "kernelspec": {
   "display_name": "Python 3 (ipykernel)",
   "language": "python",
   "name": "python3"
  },
  "language_info": {
   "codemirror_mode": {
    "name": "ipython",
    "version": 3
   },
   "file_extension": ".py",
   "mimetype": "text/x-python",
   "name": "python",
   "nbconvert_exporter": "python",
   "pygments_lexer": "ipython3",
   "version": "3.12.7"
  }
 },
 "nbformat": 4,
 "nbformat_minor": 5
}
